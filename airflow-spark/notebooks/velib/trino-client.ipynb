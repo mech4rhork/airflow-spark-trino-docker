{
 "cells": [
  {
   "cell_type": "code",
   "execution_count": 1,
   "id": "13e15ddd-1d3c-4306-a25c-a3bdb17f473d",
   "metadata": {
    "scrolled": true,
    "tags": []
   },
   "outputs": [
    {
     "name": "stdout",
     "output_type": "stream",
     "text": [
      "Collecting trino\n",
      "  Downloading trino-0.330.0-py3-none-any.whl (53 kB)\n",
      "     |████████████████████████████████| 53 kB 2.2 MB/s             \n",
      "\u001b[?25hCollecting requests>=2.31.0\n",
      "  Downloading requests-2.32.3-py3-none-any.whl (64 kB)\n",
      "     |████████████████████████████████| 64 kB 3.4 MB/s             \n",
      "\u001b[?25hCollecting tzlocal\n",
      "  Downloading tzlocal-5.2-py3-none-any.whl (17 kB)\n",
      "Requirement already satisfied: python-dateutil in /opt/conda/lib/python3.9/site-packages (from trino) (2.8.2)\n",
      "Requirement already satisfied: pytz in /opt/conda/lib/python3.9/site-packages (from trino) (2021.3)\n",
      "Requirement already satisfied: urllib3<3,>=1.21.1 in /opt/conda/lib/python3.9/site-packages (from requests>=2.31.0->trino) (1.26.7)\n",
      "Requirement already satisfied: certifi>=2017.4.17 in /opt/conda/lib/python3.9/site-packages (from requests>=2.31.0->trino) (2021.10.8)\n",
      "Requirement already satisfied: idna<4,>=2.5 in /opt/conda/lib/python3.9/site-packages (from requests>=2.31.0->trino) (3.1)\n",
      "Requirement already satisfied: charset-normalizer<4,>=2 in /opt/conda/lib/python3.9/site-packages (from requests>=2.31.0->trino) (2.0.0)\n",
      "Requirement already satisfied: six>=1.5 in /opt/conda/lib/python3.9/site-packages (from python-dateutil->trino) (1.16.0)\n",
      "Installing collected packages: tzlocal, requests, trino\n",
      "  Attempting uninstall: requests\n",
      "    Found existing installation: requests 2.26.0\n",
      "    Uninstalling requests-2.26.0:\n",
      "      Successfully uninstalled requests-2.26.0\n",
      "Successfully installed requests-2.32.3 trino-0.330.0 tzlocal-5.2\n"
     ]
    }
   ],
   "source": [
    "!pip install trino"
   ]
  },
  {
   "cell_type": "code",
   "execution_count": 5,
   "id": "9342f3a9-f56d-4206-91eb-275a0636a688",
   "metadata": {},
   "outputs": [
    {
     "name": "stdout",
     "output_type": "stream",
     "text": [
      "[1, 'Customer#000000001', 'IVhzIApeRb ot,c,E', 15, '25-989-741-2988', 711.56, 'BUILDING', 'to the even, regular platelets. regular, ironic epitaphs nag e']\n",
      "[2, 'Customer#000000002', 'XSTf4,NCwDVaWNe6tEgvwfmRchLXak', 13, '23-768-687-3665', 121.65, 'AUTOMOBILE', 'l accounts. blithely ironic theodolites integrate boldly: caref']\n",
      "[3, 'Customer#000000003', 'MG9kdTD2WBHm', 1, '11-719-748-3364', 7498.12, 'AUTOMOBILE', ' deposits eat slyly ironic, even instructions. express foxes detect slyly. blithely even accounts abov']\n",
      "[4, 'Customer#000000004', 'XxVSJsLAGtn', 4, '14-128-190-5944', 2866.83, 'MACHINERY', ' requests. final, regular ideas sleep final accou']\n",
      "[5, 'Customer#000000005', 'KvpyuHCplrB84WgAiGV6sYpZq7Tj', 3, '13-750-942-6364', 794.47, 'HOUSEHOLD', 'n accounts will have to unwind. foxes cajole accor']\n"
     ]
    }
   ],
   "source": [
    "import trino\n",
    "\n",
    "# Replace with your Trino server details\n",
    "host = 'http://trino-coordinator'\n",
    "port = 8080  # Default port for Trino\n",
    "user = 'minio'\n",
    "catalog = 'minio123'  # e.g., hive\n",
    "schema = 'minio.test'  # e.g., default\n",
    "\n",
    "# Create a connection to Trino\n",
    "conn = trino.dbapi.connect(\n",
    "    host=host,\n",
    "    port=port,\n",
    "    user=user,\n",
    "    catalog=catalog,\n",
    "    schema=schema,\n",
    ")\n",
    "\n",
    "# Create a cursor to execute queries\n",
    "cur = conn.cursor()\n",
    "\n",
    "# Example SQL query\n",
    "query = \"select * from minio.test.customer limit 5\"\n",
    "\n",
    "# Execute the query\n",
    "cur.execute(query)\n",
    "\n",
    "# Fetch the results\n",
    "results = cur.fetchall()\n",
    "\n",
    "# Print the results\n",
    "for row in results:\n",
    "    print(row)\n",
    "\n",
    "# Close the cursor and connection\n",
    "cur.close()\n",
    "conn.close()\n"
   ]
  },
  {
   "cell_type": "code",
   "execution_count": 7,
   "id": "3043a53e-3009-4b66-ba53-825e929c8cf4",
   "metadata": {},
   "outputs": [
    {
     "name": "stdout",
     "output_type": "stream",
     "text": [
      "[0, '2024-01-30T22:37:44+00:00', 0, 'OUI', 'NON', 'NON', 0, 'Château - Place de Catalogne', 'Paris', 0, 0, '14134', None, '2024-01-30T22:37', 48.836805542262, 2.3185293003917, '2024-01-30']\n",
      "[0, '2024-01-30T22:37:44+00:00', 0, 'OUI', 'NON', 'NON', 0, 'Château - Place de Catalogne', 'Paris', 0, 0, '14134', None, '2024-01-30T22:37', 48.836805542262, 2.3185293003917, '2024-01-30']\n",
      "[0, '2024-01-30T22:37:44+00:00', 0, 'OUI', 'NON', 'NON', 0, 'Château - Place de Catalogne', 'Paris', 0, 0, '14134', None, '2024-01-30T22:37', 48.836805542262, 2.3185293003917, '2024-01-30']\n",
      "[0, '2024-01-30T22:37:44+00:00', 0, 'OUI', 'NON', 'NON', 0, 'Château - Place de Catalogne', 'Paris', 0, 0, '14134', None, '2024-01-30T22:37', 48.836805542262, 2.3185293003917, '2024-01-30']\n",
      "[0, '2024-01-30T22:37:44+00:00', 0, 'OUI', 'NON', 'NON', 0, 'Château - Place de Catalogne', 'Paris', 0, 0, '14134', None, '2024-01-30T22:37', 48.836805542262, 2.3185293003917, '2024-01-30']\n"
     ]
    }
   ],
   "source": [
    "import trino\n",
    "\n",
    "# Replace with your Trino server details\n",
    "host = 'http://trino-coordinator'\n",
    "port = 8080  # Default port for Trino\n",
    "user = 'minio'\n",
    "catalog = 'minio123'  # e.g., hive\n",
    "schema = 'minio.test'  # e.g., default\n",
    "\n",
    "# Create a connection to Trino\n",
    "conn = trino.dbapi.connect(\n",
    "    host=host,\n",
    "    port=port,\n",
    "    user=user,\n",
    "    catalog=catalog,\n",
    "    schema=schema,\n",
    ")\n",
    "\n",
    "# Create a cursor to execute queries\n",
    "cur = conn.cursor()\n",
    "\n",
    "# Example SQL query\n",
    "query = \"select * from minio.velib_silver.velib_disponibilite_en_temps_reel limit 5\"\n",
    "\n",
    "# Execute the query\n",
    "cur.execute(query)\n",
    "\n",
    "# Fetch the results\n",
    "results = cur.fetchall()\n",
    "\n",
    "# Print the results\n",
    "for row in results:\n",
    "    print(row)\n",
    "\n",
    "# Close the cursor and connection\n",
    "cur.close()\n",
    "conn.close()\n"
   ]
  }
 ],
 "metadata": {
  "kernelspec": {
   "display_name": "Python 3 (ipykernel)",
   "language": "python",
   "name": "python3"
  },
  "language_info": {
   "codemirror_mode": {
    "name": "ipython",
    "version": 3
   },
   "file_extension": ".py",
   "mimetype": "text/x-python",
   "name": "python",
   "nbconvert_exporter": "python",
   "pygments_lexer": "ipython3",
   "version": "3.9.7"
  }
 },
 "nbformat": 4,
 "nbformat_minor": 5
}

{
 "cells": [
  {
   "cell_type": "code",
   "execution_count": 1,
   "id": "9f1bf18b-b3d0-4d3d-9643-f82ca702f1d2",
   "metadata": {},
   "outputs": [
    {
     "name": "stdout",
     "output_type": "stream",
     "text": [
      "Requirement already satisfied: boto3 in /opt/conda/lib/python3.9/site-packages (1.35.49)\n",
      "Requirement already satisfied: botocore<1.36.0,>=1.35.49 in /opt/conda/lib/python3.9/site-packages (from boto3) (1.35.49)\n",
      "Requirement already satisfied: jmespath<2.0.0,>=0.7.1 in /opt/conda/lib/python3.9/site-packages (from boto3) (1.0.1)\n",
      "Requirement already satisfied: s3transfer<0.11.0,>=0.10.0 in /opt/conda/lib/python3.9/site-packages (from boto3) (0.10.3)\n",
      "Requirement already satisfied: python-dateutil<3.0.0,>=2.1 in /opt/conda/lib/python3.9/site-packages (from botocore<1.36.0,>=1.35.49->boto3) (2.8.2)\n",
      "Requirement already satisfied: urllib3<1.27,>=1.25.4 in /opt/conda/lib/python3.9/site-packages (from botocore<1.36.0,>=1.35.49->boto3) (1.26.7)\n",
      "Requirement already satisfied: six>=1.5 in /opt/conda/lib/python3.9/site-packages (from python-dateutil<3.0.0,>=2.1->botocore<1.36.0,>=1.35.49->boto3) (1.16.0)\n"
     ]
    }
   ],
   "source": [
    "!pip install boto3"
   ]
  },
  {
   "cell_type": "code",
   "execution_count": 2,
   "id": "a4cd6a5c-a0ab-42ae-8725-1988f2168049",
   "metadata": {},
   "outputs": [],
   "source": [
    "import requests\n",
    "import boto3\n",
    "from botocore.client import Config\n",
    "import json\n",
    "import datetime\n",
    "import locale"
   ]
  },
  {
   "cell_type": "code",
   "execution_count": 3,
   "id": "7160fce1-0218-42b7-9a0a-9ba796bf8698",
   "metadata": {},
   "outputs": [
    {
     "name": "stdout",
     "output_type": "stream",
     "text": [
      "1485\n",
      "{'stationcode': '16107', 'name': 'Benjamin Godard - Victor Hugo', 'is_installed': 'OUI', 'capacity': 35, 'numdocksavailable': 30, 'numbikesavailable': 5, 'mechanical': 1, 'ebike': 4, 'is_renting': 'OUI', 'is_returning': 'OUI', 'duedate': '2024-10-27T02:03:26+00:00', 'coordonnees_geo': {'lon': 2.275725, 'lat': 48.865983}, 'nom_arrondissement_communes': 'Paris', 'code_insee_commune': '75056'}\n"
     ]
    }
   ],
   "source": [
    "now = datetime.datetime.now(datetime.timezone.utc)\n",
    "timestamp_day = now.strftime(\"%Y-%m-%d\")\n",
    "timestamp_minute = now.strftime(\"%Y-%m-%d-%H%M\")\n",
    "\n",
    "dataset_name = 'velib-disponibilite-en-temps-reel'\n",
    "\n",
    "url = f\"https://opendata.paris.fr/api/explore/v2.1/catalog/datasets/{dataset_name}/exports/json\"\n",
    "minio_url = \"http://minio:9000\"\n",
    "access_key = \"minio\"\n",
    "secret_key = \"minio123\"\n",
    "bucket_name = \"velib\"\n",
    "object_key = f\"bronze/{dataset_name}/{timestamp_day}/{timestamp_minute}.json\"\n",
    "\n",
    "response = requests.get(url)\n",
    "response.raise_for_status()  # Raise an error for bad responses\n",
    "print(len(response.json()))\n",
    "print(response.json()[0])"
   ]
  },
  {
   "cell_type": "code",
   "execution_count": 4,
   "id": "b61defe9-2513-4422-bcbc-55f889705970",
   "metadata": {},
   "outputs": [
    {
     "name": "stdout",
     "output_type": "stream",
     "text": [
      "File 'root/bronze/velib-disponibilite-en-temps-reel/2024-10-27/2024-10-27-0351.json' has been uploaded to bucket 'velib'.\n"
     ]
    }
   ],
   "source": [
    "s3_client = boto3.client(\n",
    "    's3',\n",
    "    endpoint_url=minio_url,\n",
    "    aws_access_key_id=access_key,\n",
    "    aws_secret_access_key=secret_key,\n",
    "    config=Config(signature_version='s3v4')\n",
    ")\n",
    "object_content = json.dumps(response.json())\n",
    "s3_client.put_object(Bucket=bucket_name, Key=object_key, Body=object_content)\n",
    "print(f\"File '{object_key}' has been uploaded to bucket '{bucket_name}'.\")"
   ]
  },
  {
   "cell_type": "code",
   "execution_count": null,
   "id": "f4de3dae-faa1-4e93-8361-125de0c7973a",
   "metadata": {},
   "outputs": [],
   "source": []
  }
 ],
 "metadata": {
  "kernelspec": {
   "display_name": "Python 3 (ipykernel)",
   "language": "python",
   "name": "python3"
  },
  "language_info": {
   "codemirror_mode": {
    "name": "ipython",
    "version": 3
   },
   "file_extension": ".py",
   "mimetype": "text/x-python",
   "name": "python",
   "nbconvert_exporter": "python",
   "pygments_lexer": "ipython3",
   "version": "3.9.7"
  }
 },
 "nbformat": 4,
 "nbformat_minor": 5
}

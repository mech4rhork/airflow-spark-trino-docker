{
 "cells": [
  {
   "cell_type": "markdown",
   "id": "2550e7a3-319f-490d-bb69-ee378644ca24",
   "metadata": {
    "tags": []
   },
   "source": [
    "## Dummy pyspark test"
   ]
  },
  {
   "cell_type": "code",
   "execution_count": 1,
   "id": "9342f3a9-f56d-4206-91eb-275a0636a688",
   "metadata": {},
   "outputs": [
    {
     "name": "stderr",
     "output_type": "stream",
     "text": [
      "WARNING: An illegal reflective access operation has occurred\n",
      "WARNING: Illegal reflective access by org.apache.spark.unsafe.Platform (file:/usr/local/spark-3.1.2-bin-hadoop3.2/jars/spark-unsafe_2.12-3.1.2.jar) to constructor java.nio.DirectByteBuffer(long,int)\n",
      "WARNING: Please consider reporting this to the maintainers of org.apache.spark.unsafe.Platform\n",
      "WARNING: Use --illegal-access=warn to enable warnings of further illegal reflective access operations\n",
      "WARNING: All illegal access operations will be denied in a future release\n",
      "24/10/29 10:35:43 WARN NativeCodeLoader: Unable to load native-hadoop library for your platform... using builtin-java classes where applicable\n",
      "Using Spark's default log4j profile: org/apache/spark/log4j-defaults.properties\n",
      "Setting default log level to \"WARN\".\n",
      "To adjust logging level use sc.setLogLevel(newLevel). For SparkR, use setLogLevel(newLevel).\n"
     ]
    },
    {
     "name": "stdout",
     "output_type": "stream",
     "text": [
      "DataFrame 1:\n"
     ]
    },
    {
     "name": "stderr",
     "output_type": "stream",
     "text": [
      "                                                                                \r"
     ]
    },
    {
     "name": "stdout",
     "output_type": "stream",
     "text": [
      "+---+-------+\n",
      "| ID|   Name|\n",
      "+---+-------+\n",
      "|  1|  Alice|\n",
      "|  2|    Bob|\n",
      "|  3|Charlie|\n",
      "+---+-------+\n",
      "\n",
      "DataFrame 2:\n",
      "+---+---+\n",
      "| ID|Age|\n",
      "+---+---+\n",
      "|  1| 25|\n",
      "|  2| 30|\n",
      "|  4| 35|\n",
      "+---+---+\n",
      "\n",
      "Joined Result:\n",
      "+---+-----+---+\n",
      "| ID| Name|Age|\n",
      "+---+-----+---+\n",
      "|  1|Alice| 25|\n",
      "|  2|  Bob| 30|\n",
      "+---+-----+---+\n",
      "\n"
     ]
    }
   ],
   "source": [
    "import os\n",
    "from pyspark.sql import SparkSession\n",
    "from pyspark import SparkConf\n",
    "from pyspark.sql import Row\n",
    "\n",
    "# Initialize Spark session\n",
    "spark = SparkSession.builder.appName(\"DataFrameJoinExample\").master(\"local[*]\").getOrCreate()\n",
    "\n",
    "# Create sample data\n",
    "data1 = [Row(ID=1, Name=\"Alice\"), Row(ID=2, Name=\"Bob\"), Row(ID=3, Name=\"Charlie\")]\n",
    "data2 = [Row(ID=1, Age=25), Row(ID=2, Age=30), Row(ID=4, Age=35)]\n",
    "\n",
    "# Create DataFrames\n",
    "df1 = spark.createDataFrame(data1)\n",
    "df2 = spark.createDataFrame(data2)\n",
    "\n",
    "# Perform an inner join on the 'ID' column\n",
    "result = df1.join(df2, on=\"ID\", how=\"inner\")\n",
    "\n",
    "# Show DataFrames and result\n",
    "print(\"DataFrame 1:\")\n",
    "df1.show()\n",
    "\n",
    "print(\"DataFrame 2:\")\n",
    "df2.show()\n",
    "\n",
    "print(\"Joined Result:\")\n",
    "result.show()"
   ]
  },
  {
   "cell_type": "code",
   "execution_count": null,
   "id": "826e3e9d-f550-4d47-a22e-970880788eea",
   "metadata": {},
   "outputs": [],
   "source": []
  }
 ],
 "metadata": {
  "kernelspec": {
   "display_name": "Python 3 (ipykernel)",
   "language": "python",
   "name": "python3"
  },
  "language_info": {
   "codemirror_mode": {
    "name": "ipython",
    "version": 3
   },
   "file_extension": ".py",
   "mimetype": "text/x-python",
   "name": "python",
   "nbconvert_exporter": "python",
   "pygments_lexer": "ipython3",
   "version": "3.9.7"
  }
 },
 "nbformat": 4,
 "nbformat_minor": 5
}

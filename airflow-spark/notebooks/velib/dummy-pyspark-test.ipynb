{
 "cells": [
  {
   "cell_type": "markdown",
   "id": "2550e7a3-319f-490d-bb69-ee378644ca24",
   "metadata": {
    "tags": []
   },
   "source": [
    "## Dummy pyspark test"
   ]
  },
  {
   "cell_type": "code",
   "execution_count": null,
   "id": "9342f3a9-f56d-4206-91eb-275a0636a688",
   "metadata": {},
   "outputs": [],
   "source": [
    "import os\n",
    "from pyspark.sql import SparkSession\n",
    "from pyspark import SparkConf\n",
    "from pyspark.sql import Row\n",
    "\n",
    "# Initialize Spark session\n",
    "spark = SparkSession.builder.appName(\"DataFrameJoinExample\").master(\"local[*]\").getOrCreate()\n",
    "\n",
    "# Create sample data\n",
    "data1 = [Row(ID=1, Name=\"Alice\"), Row(ID=2, Name=\"Bob\"), Row(ID=3, Name=\"Charlie\")]\n",
    "data2 = [Row(ID=1, Age=25), Row(ID=2, Age=30), Row(ID=4, Age=35)]\n",
    "\n",
    "# Create DataFrames\n",
    "df1 = spark.createDataFrame(data1)\n",
    "df2 = spark.createDataFrame(data2)\n",
    "\n",
    "# Perform an inner join on the 'ID' column\n",
    "result = df1.join(df2, on=\"ID\", how=\"inner\")\n",
    "\n",
    "# Show DataFrames and result\n",
    "print(\"DataFrame 1:\")\n",
    "df1.show()\n",
    "\n",
    "print(\"DataFrame 2:\")\n",
    "df2.show()\n",
    "\n",
    "print(\"Joined Result:\")\n",
    "result.show()"
   ]
  }
 ],
 "metadata": {
  "kernelspec": {
   "display_name": "Python 3 (ipykernel)",
   "language": "python",
   "name": "python3"
  },
  "language_info": {
   "codemirror_mode": {
    "name": "ipython",
    "version": 3
   },
   "file_extension": ".py",
   "mimetype": "text/x-python",
   "name": "python",
   "nbconvert_exporter": "python",
   "pygments_lexer": "ipython3",
   "version": "3.9.7"
  }
 },
 "nbformat": 4,
 "nbformat_minor": 5
}
